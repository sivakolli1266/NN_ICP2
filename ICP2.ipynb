{
  "nbformat": 4,
  "nbformat_minor": 0,
  "metadata": {
    "colab": {
      "provenance": []
    },
    "kernelspec": {
      "name": "python3",
      "display_name": "Python 3"
    },
    "language_info": {
      "name": "python"
    }
  },
  "cells": [
    {
      "cell_type": "code",
      "source": [
        "def fullname(first_name, last_name):\n",
        "    return first_name + \" \" + last_name\n",
        "\n",
        "def string_alternative(full_name):\n",
        "    return full_name[::2]\n",
        "\n",
        "\n",
        "first_name = input(\"Enter your first name: \")\n",
        "last_name = input(\"Enter your last name: \")\n",
        "\n",
        "full_name = fullname(first_name, last_name)\n",
        "\n",
        "\n",
        "output = string_alternative(full_name)\n",
        "\n",
        "print(\"Full Name:\", full_name)\n",
        "print(\"Output:\", output)"
      ],
      "metadata": {
        "colab": {
          "base_uri": "https://localhost:8080/"
        },
        "id": "pDppkdQBE2Ml",
        "outputId": "f978720b-037c-48e0-dc4b-68a26781a96c"
      },
      "execution_count": 91,
      "outputs": [
        {
          "output_type": "stream",
          "name": "stdout",
          "text": [
            "Enter your first name: good\n",
            "Enter your last name: evening \n",
            "Full Name: good evening \n",
            "Output: go vnn \n"
          ]
        }
      ]
    },
    {
      "cell_type": "markdown",
      "source": [],
      "metadata": {
        "id": "umX8XmkvAr_-"
      }
    },
    {
      "cell_type": "code",
      "source": [
        "import os\n",
        "\n",
        "def word_count_in_lines(input_file, output_file):\n",
        "    if not os.path.isfile(input_file):\n",
        "        print(f\"Error: The file {input_file} does not exist.\")\n",
        "        return\n",
        "\n",
        "    word_count = {}\n",
        "\n",
        "    with open(input_file, 'r') as infile:\n",
        "        lines = infile.readlines()\n",
        "\n",
        "    for line in lines:\n",
        "        words = line.strip().split()\n",
        "        for word in words:\n",
        "            word = word.lower()\n",
        "            if word in word_count:\n",
        "                word_count[word] += 1\n",
        "            else:\n",
        "                word_count[word] = 1\n",
        "\n",
        "\n",
        "    with open(output_file, 'w') as outfile:\n",
        "        for line in lines:\n",
        "            outfile.write(line)\n",
        "            print(line)\n",
        "\n",
        "        outfile.write(\"Word_Count:\\n\")\n",
        "        print(\"Word_Count:\\n\")\n",
        "        for word, count in word_count.items():\n",
        "            outfile.write(f\"{word.capitalize()}: {count}\\n\")\n",
        "\n",
        "            print(word,\": \",count)\n",
        "\n",
        "\n",
        "\n",
        "input_file = '/content/input.txt'\n",
        "output_file = '/content/output.txt'\n",
        "word_count_in_lines(input_file, output_file)\n"
      ],
      "metadata": {
        "colab": {
          "base_uri": "https://localhost:8080/"
        },
        "id": "K2cxYrmaLfGW",
        "outputId": "0a644f37-6be2-4727-95b3-09d77ee8ab8b"
      },
      "execution_count": 93,
      "outputs": [
        {
          "output_type": "stream",
          "name": "stdout",
          "text": [
            "Python Course\n",
            "\n",
            "Deep Learning Course\n",
            "\n",
            "Word_Count:\n",
            "\n",
            "python :  1\n",
            "course :  2\n",
            "deep :  1\n",
            "learning :  1\n"
          ]
        }
      ]
    },
    {
      "cell_type": "code",
      "source": [
        "def convert_heights(in_inches):\n",
        "    heights_in_cm = []\n",
        "    for height in heights_in_inches:\n",
        "        height_in_cm = round(height * 2.54, 2)\n",
        "        heights_in_cm.append(height_in_cm)\n",
        "    return heights_in_cm\n",
        "\n",
        "def convert_heights_list_comprehension(heights_in_inches):\n",
        "    return [round(height * 2.5, 2) for height in heights_in_inches]\n",
        "\n",
        "heights_in_inches = []\n",
        "num_values = int(input(\"Number of Customers: \"))\n",
        "\n",
        "for i in range(num_values):\n",
        "    height = float(input(f\"Enter height in inches for customer {i+1}: \"))\n",
        "    heights_in_inches.append(height)\n",
        "\n",
        "print(\"Heights in inches:\", heights_in_inches)\n",
        "\n",
        "\n",
        "converted_heights_loop = convert_heights(heights_in_inches)\n",
        "print(\"Converted heights :\", converted_heights_loop)\n",
        "\n",
        "converted_heights_comprehension = convert_heights_list_comprehension(heights_in_inches)\n",
        "print(\"Converted heights :\", converted_heights_comprehension)\n"
      ],
      "metadata": {
        "colab": {
          "base_uri": "https://localhost:8080/"
        },
        "id": "dpnNso9Jf0d8",
        "outputId": "d2220e79-fdfa-4749-c187-e3899789643b"
      },
      "execution_count": 94,
      "outputs": [
        {
          "output_type": "stream",
          "name": "stdout",
          "text": [
            "Number of Customers: 4\n",
            "Enter height in inches for customer 1: 155\n",
            "Enter height in inches for customer 2: 140\n",
            "Enter height in inches for customer 3: 150\n",
            "Enter height in inches for customer 4: 145\n",
            "Heights in inches: [155.0, 140.0, 150.0, 145.0]\n",
            "Converted heights : [393.7, 355.6, 381.0, 368.3]\n",
            "Converted heights : [387.5, 350.0, 375.0, 362.5]\n"
          ]
        }
      ]
    }
  ]
}